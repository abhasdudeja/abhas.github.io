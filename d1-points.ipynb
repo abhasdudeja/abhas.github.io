{
 "cells": [
  {
   "cell_type": "code",
   "execution_count": 33,
   "metadata": {},
   "outputs": [],
   "source": [
    "import pandas as pd\n",
    "import folium\n",
    "import geopandas as gpd"
   ]
  },
  {
   "cell_type": "code",
   "execution_count": 37,
   "metadata": {},
   "outputs": [
    {
     "name": "stderr",
     "output_type": "stream",
     "text": [
      "D:\\AppData\\Local\\Temp\\ipykernel_14372\\542631260.py:1: DtypeWarning: Columns (9) have mixed types. Specify dtype option on import or set low_memory=False.\n",
      "  df = pd.read_csv('data/india-pincodes.csv')\n"
     ]
    }
   ],
   "source": [
    "df = pd.read_csv('data/india-pincodes.csv')\n",
    "df = df.dropna(subset=['Latitude'])\n",
    "df = df.dropna(subset=['Longitude'])"
   ]
  },
  {
   "cell_type": "code",
   "execution_count": 38,
   "metadata": {},
   "outputs": [
    {
     "ename": "ValueError",
     "evalue": "could not convert string to float: '31.4398200-'",
     "output_type": "error",
     "traceback": [
      "\u001b[1;31m---------------------------------------------------------------------------\u001b[0m",
      "\u001b[1;31mValueError\u001b[0m                                Traceback (most recent call last)",
      "\u001b[1;32me:\\GitHub\\abhas.github.io\\d1-points.ipynb Cell 3\u001b[0m line \u001b[0;36m5\n\u001b[0;32m      <a href='vscode-notebook-cell:/e%3A/GitHub/abhas.github.io/d1-points.ipynb#W2sZmlsZQ%3D%3D?line=0'>1</a>\u001b[0m \u001b[39mmap\u001b[39m \u001b[39m=\u001b[39m folium\u001b[39m.\u001b[39mMap()\n\u001b[0;32m      <a href='vscode-notebook-cell:/e%3A/GitHub/abhas.github.io/d1-points.ipynb#W2sZmlsZQ%3D%3D?line=2'>3</a>\u001b[0m pointgroup \u001b[39m=\u001b[39m folium\u001b[39m.\u001b[39mFeatureGroup()\u001b[39m.\u001b[39madd_to(\u001b[39mmap\u001b[39m)\n\u001b[1;32m----> <a href='vscode-notebook-cell:/e%3A/GitHub/abhas.github.io/d1-points.ipynb#W2sZmlsZQ%3D%3D?line=4'>5</a>\u001b[0m df1 \u001b[39m=\u001b[39m gpd\u001b[39m.\u001b[39mGeoDataFrame(df,geometry\u001b[39m=\u001b[39mgpd\u001b[39m.\u001b[39;49mpoints_from_xy(df[\u001b[39m'\u001b[39;49m\u001b[39mLatitude\u001b[39;49m\u001b[39m'\u001b[39;49m],df[\u001b[39m'\u001b[39;49m\u001b[39mLongitude\u001b[39;49m\u001b[39m'\u001b[39;49m]))\n",
      "File \u001b[1;32mc:\\Python311\\Lib\\site-packages\\geopandas\\array.py:266\u001b[0m, in \u001b[0;36mpoints_from_xy\u001b[1;34m(x, y, z, crs)\u001b[0m\n\u001b[0;32m    223\u001b[0m \u001b[39mdef\u001b[39;00m \u001b[39mpoints_from_xy\u001b[39m(x, y, z\u001b[39m=\u001b[39m\u001b[39mNone\u001b[39;00m, crs\u001b[39m=\u001b[39m\u001b[39mNone\u001b[39;00m):\n\u001b[0;32m    224\u001b[0m \u001b[39m    \u001b[39m\u001b[39m\"\"\"\u001b[39;00m\n\u001b[0;32m    225\u001b[0m \u001b[39m    Generate GeometryArray of shapely Point geometries from x, y(, z) coordinates.\u001b[39;00m\n\u001b[0;32m    226\u001b[0m \n\u001b[1;32m   (...)\u001b[0m\n\u001b[0;32m    264\u001b[0m \u001b[39m    output : GeometryArray\u001b[39;00m\n\u001b[0;32m    265\u001b[0m \u001b[39m    \"\"\"\u001b[39;00m\n\u001b[1;32m--> 266\u001b[0m     \u001b[39mreturn\u001b[39;00m GeometryArray(vectorized\u001b[39m.\u001b[39;49mpoints_from_xy(x, y, z), crs\u001b[39m=\u001b[39mcrs)\n",
      "File \u001b[1;32mc:\\Python311\\Lib\\site-packages\\geopandas\\_vectorized.py:256\u001b[0m, in \u001b[0;36mpoints_from_xy\u001b[1;34m(x, y, z)\u001b[0m\n\u001b[0;32m    255\u001b[0m \u001b[39mdef\u001b[39;00m \u001b[39mpoints_from_xy\u001b[39m(x, y, z\u001b[39m=\u001b[39m\u001b[39mNone\u001b[39;00m):\n\u001b[1;32m--> 256\u001b[0m     x \u001b[39m=\u001b[39m np\u001b[39m.\u001b[39;49masarray(x, dtype\u001b[39m=\u001b[39;49m\u001b[39m\"\u001b[39;49m\u001b[39mfloat64\u001b[39;49m\u001b[39m\"\u001b[39;49m)\n\u001b[0;32m    257\u001b[0m     y \u001b[39m=\u001b[39m np\u001b[39m.\u001b[39masarray(y, dtype\u001b[39m=\u001b[39m\u001b[39m\"\u001b[39m\u001b[39mfloat64\u001b[39m\u001b[39m\"\u001b[39m)\n\u001b[0;32m    258\u001b[0m     \u001b[39mif\u001b[39;00m z \u001b[39mis\u001b[39;00m \u001b[39mnot\u001b[39;00m \u001b[39mNone\u001b[39;00m:\n",
      "File \u001b[1;32mc:\\Python311\\Lib\\site-packages\\pandas\\core\\series.py:893\u001b[0m, in \u001b[0;36mSeries.__array__\u001b[1;34m(self, dtype)\u001b[0m\n\u001b[0;32m    846\u001b[0m \u001b[39mdef\u001b[39;00m \u001b[39m__array__\u001b[39m(\u001b[39mself\u001b[39m, dtype: npt\u001b[39m.\u001b[39mDTypeLike \u001b[39m|\u001b[39m \u001b[39mNone\u001b[39;00m \u001b[39m=\u001b[39m \u001b[39mNone\u001b[39;00m) \u001b[39m-\u001b[39m\u001b[39m>\u001b[39m np\u001b[39m.\u001b[39mndarray:\n\u001b[0;32m    847\u001b[0m \u001b[39m    \u001b[39m\u001b[39m\"\"\"\u001b[39;00m\n\u001b[0;32m    848\u001b[0m \u001b[39m    Return the values as a NumPy array.\u001b[39;00m\n\u001b[0;32m    849\u001b[0m \n\u001b[1;32m   (...)\u001b[0m\n\u001b[0;32m    891\u001b[0m \u001b[39m          dtype='datetime64[ns]')\u001b[39;00m\n\u001b[0;32m    892\u001b[0m \u001b[39m    \"\"\"\u001b[39;00m\n\u001b[1;32m--> 893\u001b[0m     \u001b[39mreturn\u001b[39;00m np\u001b[39m.\u001b[39masarray(\u001b[39mself\u001b[39m\u001b[39m.\u001b[39m_values, dtype)\n",
      "\u001b[1;31mValueError\u001b[0m: could not convert string to float: '31.4398200-'"
     ]
    }
   ],
   "source": [
    "map = folium.Map()\n",
    "\n",
    "pointgroup = folium.FeatureGroup().add_to(map)\n",
    "\n",
    "df1 = gpd.GeoDataFrame(df,geometry=gpd.points_from_xy(df['Latitude'],df['Longitude']))\n",
    "    "
   ]
  }
 ],
 "metadata": {
  "kernelspec": {
   "display_name": "Python 3",
   "language": "python",
   "name": "python3"
  },
  "language_info": {
   "codemirror_mode": {
    "name": "ipython",
    "version": 3
   },
   "file_extension": ".py",
   "mimetype": "text/x-python",
   "name": "python",
   "nbconvert_exporter": "python",
   "pygments_lexer": "ipython3",
   "version": "3.11.3"
  }
 },
 "nbformat": 4,
 "nbformat_minor": 2
}
